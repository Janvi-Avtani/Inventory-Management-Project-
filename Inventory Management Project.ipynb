{
 "cells": [
  {
   "cell_type": "code",
   "execution_count": 1,
   "metadata": {},
   "outputs": [],
   "source": [
    "import json\n",
    "import time"
   ]
  },
  {
   "cell_type": "code",
   "execution_count": 2,
   "metadata": {},
   "outputs": [],
   "source": [
    "records= {1 : {\"name\" : \"maggie\", \"qty\" : 10, \"price\" : 10.00 },\n",
    "    2 : {\"name\" : \"pasta\", \"qty\" : 150, \"price\" : 25.00 },\n",
    "    3 : {\"name\" : \"cheese\", \"qty\" : 5, \"price\" : 100.00 }}"
   ]
  },
  {
   "cell_type": "code",
   "execution_count": 3,
   "metadata": {},
   "outputs": [],
   "source": [
    "js = json.dumps(records)"
   ]
  },
  {
   "cell_type": "code",
   "execution_count": 4,
   "metadata": {},
   "outputs": [],
   "source": [
    "fd = open(\"stock.json\",'w')\n",
    "fd.write(js)\n",
    "fd.close()"
   ]
  },
  {
   "cell_type": "code",
   "execution_count": 5,
   "metadata": {},
   "outputs": [],
   "source": [
    "fd = open(\"stock.json\",'r')"
   ]
  },
  {
   "cell_type": "code",
   "execution_count": 6,
   "metadata": {},
   "outputs": [],
   "source": [
    "stockData = json.load(fd)"
   ]
  },
  {
   "cell_type": "code",
   "execution_count": 8,
   "metadata": {
    "scrolled": false
   },
   "outputs": [
    {
     "name": "stdout",
     "output_type": "stream",
     "text": [
      "\n",
      "              ****** WELCOME TO DMART ******\n",
      " \n",
      "1. Staff Member\n",
      "2. Customer\n",
      "Enter Option: 1\n",
      "\n",
      "\n",
      "Product ID \t Name \t\t Quantity Available \t Price \n",
      " \n",
      "1  \t\t  maggie  \t 10  \t\t\t  10.0\n",
      "2  \t\t  pasta  \t 150  \t\t\t  25.0\n",
      "3  \t\t  cheese  \t 5  \t\t\t  100.0\n",
      "Enter product ID :4\n",
      "Enter Name  :lal\n",
      "Enter Quantity :5\n",
      "Enter Price :12\n"
     ]
    }
   ],
   "source": [
    "#print(\"\\n              ****** WELCOME TO DMART ******\\n \\n\")\n",
    "staffChoice=int(input(\"\\n              ****** WELCOME TO DMART ******\\n \\n1. Staff Member\\n2. Customer\\nEnter Option: \"))\n",
    "if(staffChoice==1):\n",
    "    print(\"\\n\\nProduct ID \\t Name \\t\\t Quantity Available \\t Price \\n \")\n",
    "    for i in range (1,len(stockData)+1):\n",
    "        print(i, \" \\t\\t \",stockData[str(i)]['name'],\" \\t\", stockData[str(i)]['qty'],\" \\t\\t\\t \",stockData[str(i)]['price'])\n",
    "    prodId = input(\"Enter product ID :\")\n",
    "    name = input(\"Enter Name  :\")\n",
    "    quant = input(\"Enter Quantity :\")\n",
    "    price = input(\"Enter Price :\")\n",
    "    stockData[prodId]={\"name\" :name , \"qty\" : quant, \"price\" : price }\n",
    "    \n",
    "    \n",
    "else:\n",
    "    #print(\"\\n              ****** WELCOME TO DMART ******\\n \\n\")\n",
    "    print(\"\\n\\nProduct ID \\t Name \\t\\t Quantity Available \\t Price \\n \")\n",
    "    for i in range (1,4):\n",
    "        print(i, \" \\t\\t \",stockData[str(i)]['name'],\" \\t\", stockData[str(i)]['qty'],\" \\t\\t\\t \",stockData[str(i)]['price'])\n",
    "    choice = input(\"\\nDo you Dare? (y,n)\")\n",
    "    count=0\n",
    "    tqty=0\n",
    "    billnum=0\n",
    "    sales=[]\n",
    "    billnum+=1\n",
    "    while(choice=='y'):\n",
    "        count+=1\n",
    "        pId = input(\"Enter product ID: \")\n",
    "        qty = int(input(\"Enter Quantity: \"))\n",
    "        if(int(stockData[pId]['qty'])-qty>=0):\n",
    "            sales.append(pId)\n",
    "            sales.append(qty)\n",
    "            tqty=tqty+qty\n",
    "            stockData[pId]['qty']= str(int(stockData[pId]['qty']) - qty)\n",
    "        else:\n",
    "            print(\"\\nToo much bruh!\")\n",
    "        choice = input(\"\\nDo you still Dare? (y,n)\")\n",
    "\n",
    "   \n",
    "    totAmt=0\n",
    "    if(choice=='n'):\n",
    "        #print(\"\\n\") \n",
    "        print(\"\\n\\n\\t\\t\\t  ****** DMART ******\\n\")\n",
    "        print(\"\\t*** Address : JQ2R+FQF, Umariya, Madhya Pradesh 453331 ***\\n\")\n",
    "        print(\"\\t\\t\\t*** Phone no. : 781226 ***\\n\")\n",
    "        print(\"Bill no. : \",billnum )\n",
    "        print(\"Date/Time : \",time.ctime())\n",
    "        print(\"\\nProduct ID \\t Name \\t\\t Quantity \\t  Price \\t Value \\n \")\n",
    "        for i in range (0,len(sales),2):\n",
    "            totAmt+=float(sales[i+1]*int(stockData[sales[i]]['price']))\n",
    "            print(sales[i], \"\\t\\t\",stockData[sales[i]]['name'],\" \\t\", sales[i+1],\" \\t\\t \",stockData[sales[i]]['price'],\" \\t \", float(sales[i+1]*int(stockData[sales[i]]['price'])))\n",
    "        print(\"\\nItems : \",count)\n",
    "        print(\"Total Quantity : \",tqty)\n",
    "        print(\"Total Amount : \",totAmt)\n",
    "        print(\"\\n\\t\\t  ____        _                   __\\n\\t\\t   |   |__|  /_\\  |\\ | |_/   \\_/ | | | |\\n\\t\\t   |   |  | /   \\\\ | \\| | \\\\    |  |_| |_|\")\n",
    "\n",
    "        print(\"\\n\\t\\t\\t ***** Visit Again *****\")\n",
    "        print(\"\\t\\t\\t\\t   \\U0001f600\")"
   ]
  },
  {
   "cell_type": "code",
   "execution_count": 14,
   "metadata": {},
   "outputs": [],
   "source": []
  },
  {
   "cell_type": "code",
   "execution_count": 9,
   "metadata": {},
   "outputs": [
    {
     "data": {
      "text/plain": [
       "{'1': {'name': 'maggie', 'qty': 10, 'price': 10.0},\n",
       " '2': {'name': 'pasta', 'qty': 150, 'price': 25.0},\n",
       " '3': {'name': 'cheese', 'qty': 5, 'price': 100.0},\n",
       " '4': {'name': 'lal', 'qty': '5', 'price': '12'}}"
      ]
     },
     "execution_count": 9,
     "metadata": {},
     "output_type": "execute_result"
    }
   ],
   "source": [
    "stockData"
   ]
  },
  {
   "cell_type": "code",
   "execution_count": null,
   "metadata": {},
   "outputs": [],
   "source": []
  }
 ],
 "metadata": {
  "kernelspec": {
   "display_name": "Python 3",
   "language": "python",
   "name": "python3"
  },
  "language_info": {
   "codemirror_mode": {
    "name": "ipython",
    "version": 3
   },
   "file_extension": ".py",
   "mimetype": "text/x-python",
   "name": "python",
   "nbconvert_exporter": "python",
   "pygments_lexer": "ipython3",
   "version": "3.7.0"
  }
 },
 "nbformat": 4,
 "nbformat_minor": 2
}
